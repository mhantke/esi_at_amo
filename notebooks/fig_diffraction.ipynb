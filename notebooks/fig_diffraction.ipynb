{
 "cells": [
  {
   "cell_type": "markdown",
   "metadata": {},
   "source": [
    "## ESI at AMO\n",
    "# Figure: diffraction patterns"
   ]
  },
  {
   "cell_type": "code",
   "execution_count": null,
   "metadata": {
    "collapsed": false
   },
   "outputs": [],
   "source": [
    "%pylab inline\n",
    "import pickle, os\n",
    "import condor, spimage, h5py\n",
    "from matplotlib.colors import LogNorm"
   ]
  },
  {
   "cell_type": "markdown",
   "metadata": {},
   "source": [
    "### Convenience function for reading and local caching of XFEL data from Davinci"
   ]
  },
  {
   "cell_type": "code",
   "execution_count": null,
   "metadata": {
    "collapsed": true
   },
   "outputs": [],
   "source": [
    "#davinci_mount = \"/Users/max.hantke/davinci\"\n",
    "davinci_mount = \"/Users/benedikt/davinci\"\n",
    "\n",
    "\n",
    "cache_filename = \"./cache.p\"\n",
    "do_clear_cache = False\n",
    "if not os.path.exists(cache_filename) or do_clear_cache:\n",
    "    with open(cache_filename, \"w\") as f:\n",
    "        pickle.dump({}, f)\n",
    "\n",
    "def read_data(run, i, i0=0, sort=True):\n",
    "    if isinstance(i, list):\n",
    "        i_list = i\n",
    "    else:\n",
    "        i_list = [i]\n",
    "    \n",
    "    with open(cache_filename, \"r\") as f:\n",
    "        C = pickle.load(f)\n",
    "    \n",
    "    if run in C:\n",
    "        R = C[run]\n",
    "    else:\n",
    "        R = _read_metadata_from_davinci(run)\n",
    "\n",
    "    mask = R[\"mask\"]\n",
    "    images = []\n",
    "    for _i in i_list:\n",
    "        if sort:\n",
    "            _i_ds = R[\"i_sorted\"][i0+_i]\n",
    "        else:\n",
    "            _i_ds = i0+_i\n",
    "        if _i_ds in R[\"images\"]:\n",
    "            print \"Load data from cache\"\n",
    "            img = R[\"images\"][_i_ds]\n",
    "        else:\n",
    "            print \"Load data from davinci\"\n",
    "            img = _read_image_from_davinci(run, _i_ds)\n",
    "            R[\"images\"][_i_ds] = img\n",
    "        images.append(img)\n",
    "    images = asarray(images)\n",
    "    \n",
    "    C[run] = R\n",
    "    with open(cache_filename, \"w\") as f:\n",
    "        pickle.dump(C, f)\n",
    "\n",
    "    return mask, images\n",
    "           \n",
    "data_folder = \"/scratch/fhgfs/xray/amol3416/preproc_201707\"\n",
    "#data_folder = \"/scratch/fhgfs/xray/amol3416/preproc_201611\"\n",
    "def _read_metadata_from_davinci(run):\n",
    "    with h5py.File(\"%s%s/amol3416_r%04i_ol3.h5\" % (davinci_mount, data_folder, run), \"r\") as f:\n",
    "        mask = array(f[\"/entry_1/data_1/mask\"])\n",
    "        hitscores = array(f[\"/entry_1/result_1/hitscore_litpixel\"])\n",
    "        i_sorted = hitscores.argsort()[::-1]\n",
    "    return {\"mask\": mask, \"i_sorted\" : i_sorted, \"images\": {}}\n",
    "        \n",
    "def _read_image_from_davinci(run, i):\n",
    "    with h5py.File(\"%s%s/amol3416_r%04i_ol3.h5\" % (davinci_mount, data_folder, run), \"r\") as f:\n",
    "        image = array(f[\"/entry_1/data_1/data\"][i], dtype=\"f\")/f[\"entry_1/detector_1/gain\"][i]\n",
    "    return image"
   ]
  },
  {
   "cell_type": "markdown",
   "metadata": {},
   "source": [
    "## 1) TBSV"
   ]
  },
  {
   "cell_type": "markdown",
   "metadata": {},
   "source": [
    "### Read data"
   ]
  },
  {
   "cell_type": "code",
   "execution_count": null,
   "metadata": {
    "collapsed": false
   },
   "outputs": [],
   "source": [
    "# TBSV\n",
    "run_tbsv = 135\n",
    "i_list_tbsv = [11,12,10,9]\n",
    "mask_tbsv, images_tbsv = read_data(run_tbsv, i=i_list_tbsv)\n",
    "Nx = mask_tbsv.shape[1]\n",
    "Ny = mask_tbsv.shape[0]"
   ]
  },
  {
   "cell_type": "markdown",
   "metadata": {},
   "source": [
    "### Simulation"
   ]
  },
  {
   "cell_type": "code",
   "execution_count": null,
   "metadata": {
    "collapsed": false
   },
   "outputs": [],
   "source": [
    "ds_tbsv = 8\n",
    "edge_length_tbsv = 1024\n",
    "wl = condor.source.Photon(energy_eV=800.).get_wavelength()\n",
    "S = condor.Source(wavelength=wl, focus_diameter=3.E-6, pulse_energy=0.05*1E-3)\n",
    "D_distance = 0.25\n",
    "D = condor.Detector(distance=D_distance, pixel_size=75E-6, nx=Nx, ny=Ny)\n",
    "\n",
    "# Single\n",
    "P1 = condor.ParticleSphere(diameter=35E-9, material_type=\"cell\")#, rotation_formalism='random')\n",
    "E1 = condor.Experiment(S, {\"particle_sphere\": P1}, D)\n",
    "res1 = E1.propagate()\n",
    "in1 = res1['entry_1']['data_1']['data']\n",
    "rs1 = spimage.crop(abs(fftshift(ifftn(fftshift(res1['entry_1']['data_1']['data_fourier'])))), 30)\n",
    "#imshow(in1)\n",
    "\n",
    "# Double\n",
    "P2 = condor.ParticleSphere(diameter=35E-9, material_type=\"cell\", position=[0.,0.,0.], position_variation_n=[2,1,1], position_spread=[35E-9,0.,0.], position_variation=\"range\", number=2)\n",
    "E2 = condor.Experiment(S, {\"particle_sphere\": P2}, D)\n",
    "res2 = E2.propagate()\n",
    "in2 = res2['entry_1']['data_1']['data']\n",
    "rs2 = spimage.crop(abs(fftshift(ifftn(fftshift(res2['entry_1']['data_1']['data_fourier'])))), 30)\n",
    "#imshow(in2)\n",
    "\n",
    "sims_tbsv = [array(poisson(in1), dtype='f'), array(poisson(in2), dtype='f')]\n",
    "rssims_tbsv = [rs1, rs2]"
   ]
  },
  {
   "cell_type": "markdown",
   "metadata": {},
   "source": [
    "### Reconstructions"
   ]
  },
  {
   "cell_type": "code",
   "execution_count": null,
   "metadata": {
    "collapsed": true
   },
   "outputs": [],
   "source": [
    "rec11 = zeros(shape=(30,30))\n",
    "rec12 = zeros(shape=(30,30))\n",
    "rec21 = zeros(shape=(30,30))\n",
    "rec22 = zeros(shape=(30,30))\n",
    "\n",
    "rsrecs_tbsv = [rec11, rec12, rec21, rec22]"
   ]
  },
  {
   "cell_type": "markdown",
   "metadata": {},
   "source": [
    "## 2) Carboxysomes"
   ]
  },
  {
   "cell_type": "markdown",
   "metadata": {},
   "source": [
    "### Read data"
   ]
  },
  {
   "cell_type": "code",
   "execution_count": null,
   "metadata": {
    "collapsed": false
   },
   "outputs": [],
   "source": [
    "# CBX\n",
    "run_cbx = 127\n",
    "i_list_cbx = [3,4,5,9,10]\n",
    "mask_cbx, images_cbx = read_data(run_cbx, i=i_list_cbx)\n",
    "Nx = mask_cbx.shape[1]\n",
    "Ny = mask_cbx.shape[0]"
   ]
  },
  {
   "cell_type": "markdown",
   "metadata": {},
   "source": [
    "### Simulation"
   ]
  },
  {
   "cell_type": "code",
   "execution_count": null,
   "metadata": {
    "collapsed": true
   },
   "outputs": [],
   "source": [
    "ds_cbx = 8\n",
    "edge_length_cbx = 700\n",
    "wl = condor.source.Photon(energy_eV=800.).get_wavelength()\n",
    "S = condor.Source(wavelength=wl, focus_diameter=3.E-6, pulse_energy=0.05*1E-3)\n",
    "D = condor.Detector(distance=0.250, pixel_size=75E-6, nx=Nx, ny=Ny)\n",
    "PI = condor.ParticleMap(diameter=100E-9, material_type=\"cell\", geometry=\"icosahedron\", rotation_formalism='random')\n",
    "EI = condor.Experiment(S, {\"particle_map\": PI}, D)\n",
    "resI = EI.propagate()\n",
    "inI = resI['entry_1']['data_1']['data']\n",
    "rsI = spimage.crop(abs(fftshift(ifftn(fftshift(resI['entry_1']['data_1']['data_fourier'])))), 30)\n",
    "sims_cbx = [array(poisson(inI), dtype='f'), array(poisson(inI), dtype='f')]\n",
    "rssims_cbx = [rsI, rsI]\n",
    "#imshow(log10(poisson(abs(inI))))"
   ]
  },
  {
   "cell_type": "markdown",
   "metadata": {},
   "source": [
    "### Reconstructions"
   ]
  },
  {
   "cell_type": "code",
   "execution_count": null,
   "metadata": {
    "collapsed": false
   },
   "outputs": [],
   "source": [
    "output = []\n",
    "for i in range(len(images_cbx)):\n",
    "    image = images_cbx[i] \n",
    "    \n",
    "    # Mask and background-removal\n",
    "    mask_sat = (image > 35)\n",
    "    mask = ~(mask_cbx.astype(np.bool)) & ~mask_sat\n",
    "    image[image < 0.5] = 0.\n",
    "    \n",
    "    # Find the center \n",
    "    x,y = spimage.find_center(image, mask, method='blurred', x0=0, y0=0, \n",
    "                              dmax=40, threshold=0.5, blur_radius=4)\n",
    "    \n",
    "     # Crop around the center to 1024x1024\n",
    "    centery = int(image.shape[0]//2+y + 50)\n",
    "    centerx = int(image.shape[1]//2+x + 50)\n",
    "    data_padded = np.pad(image, 50, 'constant')\n",
    "    data_cropped = data_padded[centery-512:centery+512, centerx-512:centerx+512]\n",
    "    mask_padded  = np.pad(mask, 50, 'constant')\n",
    "    mask_cropped = mask_padded[centery-512:centery+512, centerx-512:centerx+512]\n",
    "    \n",
    "    # Downsampling\n",
    "    data_ds, mask_ds = spimage.binImage(data_cropped, 8, msk=mask_cropped, output_binned_mask=True)\n",
    "    \n",
    "    # Photon counting\n",
    "    data_cnt = np.round(data_ds)\n",
    "    mask_cnt = mask_ds == 64\n",
    "    \n",
    "    # Parameters\n",
    "    pixelsize = 75e-6 #[m]\n",
    "    distance = 259e-3 #[m]\n",
    "    dx = wl * distance / (1024. * pixelsize) #[m/px]\n",
    "    initial_support = np.round(120./(dx*1e9))\n",
    "    iterations_raar = 1000\n",
    "    iterations_er = 1000\n",
    "    iterations_total = iterations_raar + iterations_er\n",
    "    beta = 0.9\n",
    "    \n",
    "    # Phasing\n",
    "    R = spimage.Reconstructor()\n",
    "    R.set_intensities(data_cnt)\n",
    "    R.set_mask(mask_cnt)\n",
    "    R.set_number_of_iterations(iterations_total)\n",
    "    R.set_number_of_outputs_images(20)\n",
    "    R.set_number_of_outputs_scores(1000)\n",
    "    R.set_initial_support(radius=initial_support/2)\n",
    "    support_area = pi * (initial_support/2)**2 / (data_cnt.shape[0]**2)\n",
    "    R.append_support_algorithm(\"static\", number_of_iterations=iterations_total)\n",
    "    R.append_phasing_algorithm(\"raar\",beta_init=beta, beta_final=beta, number_of_iterations=iterations_raar, \n",
    "                               constraints=['enforce_real', 'enforce_positivity'])\n",
    "    R.append_phasing_algorithm(\"er\",  number_of_iterations=iterations_er,\n",
    "                               constraints=['enforce_real', 'enforce_positivity'])\n",
    "    output.append(R.reconstruct_loop(10))"
   ]
  },
  {
   "cell_type": "code",
   "execution_count": null,
   "metadata": {
    "collapsed": false
   },
   "outputs": [],
   "source": [
    "output_prtf = []\n",
    "for i in range(len(images_cbx)):\n",
    "    output_prtf.append(spimage.prtf(output[i]['real_space_final'], output[0]['support_final'], \n",
    "                                    translate=True, enantio=True))"
   ]
  },
  {
   "cell_type": "code",
   "execution_count": null,
   "metadata": {
    "collapsed": false
   },
   "outputs": [],
   "source": [
    "rec11 = abs(output_prtf[0]['super_image'])[49:-49, 49:-49]\n",
    "rec12 = abs(output_prtf[1]['super_image'])[49:-49, 49:-49]\n",
    "rec21 = abs(output_prtf[2]['super_image'])[49:-49, 49:-49]\n",
    "rec22 = abs(output_prtf[3]['super_image'])[49:-49, 49:-49]\n",
    "\n",
    "#rec11 = zeros(shape=(30,30))\n",
    "#rec12 = zeros(shape=(30,30))\n",
    "#rec21 = zeros(shape=(30,30))\n",
    "#rec22 = zeros(shape=(30,30))\n",
    "\n",
    "rsrecs_cbx = [rec11, rec12, rec21, rec22]"
   ]
  },
  {
   "cell_type": "markdown",
   "metadata": {},
   "source": [
    "### Plot Carboxysomes and TBSV together"
   ]
  },
  {
   "cell_type": "code",
   "execution_count": null,
   "metadata": {
    "collapsed": false
   },
   "outputs": [],
   "source": [
    "from matplotlib.font_manager import FontProperties\n",
    "font_b = FontProperties().copy()\n",
    "font_b.set_weight('bold')\n",
    "font_n = FontProperties().copy()\n",
    "\n",
    "sf = 0.5\n",
    "fw = sf*20\n",
    "fh = sf*7\n",
    "fr = fw/fh\n",
    "fig= figure(figsize=(fw,fh))\n",
    "Nax = 6\n",
    "w = 1/float(2.2+Nax)\n",
    "h = 0.9/2.\n",
    "x0 = linspace(0.01, 0.75, Nax)\n",
    "y0 = 0.05/2.\n",
    "\n",
    "axs1 = [fig.add_axes([x0i,y0+h+y0,w,h]) for x0i in x0]\n",
    "axs1_is = [fig.add_axes([x0i+w*0.57,2*y0+h-0.02,w*0.55,h*0.55]) for x0i in x0]\n",
    "axs2 = [fig.add_axes([x0i,y0,w,h]) for x0i in x0]\n",
    "axs2_is = [fig.add_axes([x0i+w*0.57,y0-0.02,w*0.55,h*0.55]) for x0i in x0]\n",
    "axc = fig.add_axes([0.75+w*1.2, 0.08, 0.01, 0.9-0.08])\n",
    "\n",
    "cmap = 'inferno'\n",
    "for axs, axs_is, images, mask, sims, ds, edge_length in zip([axs1, axs2], [axs1_is, axs2_is],\n",
    "                                                           [images_tbsv, images_cbx], [mask_tbsv, mask_cbx], [sims_tbsv, sims_cbx],\n",
    "                                                           [ds_tbsv, ds_cbx], [edge_length_tbsv, edge_length_cbx]):\n",
    "    \n",
    "    for ax,_img in zip(axs, [sims[0]] + [images[0]] + [images[1]] + [sims[1]] + [images[2]] + [images[3]]):\n",
    "        img = _img.copy()\n",
    "        img[img<0.75] = 0\n",
    "        msk = mask\n",
    "        if edge_length is not None:\n",
    "            img = spimage.crop(img, cropLength=edge_length, center=(512+25, 512))\n",
    "            msk = spimage.crop(msk, cropLength=edge_length, center=(512+25, 512))\n",
    "        img, msk = spimage.binImage(img, ds, msk=msk==0, output_binned_mask=True)\n",
    "        im = ax.imshow(img, norm=LogNorm(1, 1000), cmap=cmap, interpolation=\"nearest\")\n",
    "        ax.imshow(log10((1-msk)*10), cmap=\"binary_r\")\n",
    "        ax.set_axis_off()\n",
    "colorbar(mappable=im, cax=axc, label=\"Number of photons\")\n",
    "    \n",
    "for axs, axs_is, rsrecs, rssims in zip([axs1, axs2], [axs1_is, axs2_is], \n",
    "                                       [rsrecs_tbsv, rsrecs_cbx], [rssims_tbsv, rssims_cbx]):\n",
    "    for ax,data in zip(axs_is, [rssims[0], rsrecs[0], rsrecs[1], rssims[1], rsrecs[2], rsrecs[3]]):\n",
    "        ax.imshow(data, cmap='binary_r', interpolation='nearest')\n",
    "        plt.setp(ax.spines.values(), color=\"gray\", lw=2)\n",
    "        ax.set_xticks([])\n",
    "        ax.set_yticks([])\n",
    "    \n",
    "#axs[0].annotate(\"a\", (0.,1.2), xycoords=\"axes fraction\",ha=\"right\", va=\"top\", fontproperties=font_b)\n",
    "#axs[0].annotate(\"Simulation\", (0.5,1.15), xycoords=\"axes fraction\",ha=\"center\", va=\"top\", fontproperties=font_n)\n",
    "#axs[1].annotate(\"Measurement\", (1.1,1.15), xycoords=\"axes fraction\",ha=\"center\", va=\"top\", fontproperties=font_n)\n",
    "#axs[3].annotate(\"b\", (0.,1.2), xycoords=\"axes fraction\",ha=\"right\", va=\"top\", fontproperties=font_b)\n",
    "#axs[3].annotate(\"Simulation\", (0.5,1.15), xycoords=\"axes fraction\",ha=\"center\", va=\"top\", fontproperties=font_n)\n",
    "#axs[4].annotate(\"Measurement\", (1.1,1.15), xycoords=\"axes fraction\",ha=\"center\", va=\"top\", fontproperties=font_n)\n",
    "\n",
    "savefig(\"../fig_diffraction.png\", dpi=600)"
   ]
  },
  {
   "cell_type": "markdown",
   "metadata": {
    "collapsed": true
   },
   "source": [
    "## 3) Rubisco"
   ]
  },
  {
   "cell_type": "markdown",
   "metadata": {},
   "source": [
    "### Read data"
   ]
  },
  {
   "cell_type": "code",
   "execution_count": null,
   "metadata": {
    "collapsed": true
   },
   "outputs": [],
   "source": [
    "# Rubisco\n",
    "run_rub = 150\n",
    "#i0 = 0\n",
    "#mask_rub, images_rub = read_data(run_rubisco, N=30, i0=i0, sort=True)"
   ]
  },
  {
   "cell_type": "code",
   "execution_count": null,
   "metadata": {
    "collapsed": true
   },
   "outputs": [],
   "source": []
  }
 ],
 "metadata": {
  "kernelspec": {
   "display_name": "Python 2",
   "language": "python",
   "name": "python2"
  },
  "language_info": {
   "codemirror_mode": {
    "name": "ipython",
    "version": 2
   },
   "file_extension": ".py",
   "mimetype": "text/x-python",
   "name": "python",
   "nbconvert_exporter": "python",
   "pygments_lexer": "ipython2",
   "version": "2.7.10"
  }
 },
 "nbformat": 4,
 "nbformat_minor": 1
}
