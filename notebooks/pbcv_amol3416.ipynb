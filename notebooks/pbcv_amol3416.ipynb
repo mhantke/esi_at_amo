{
 "cells": [
  {
   "cell_type": "markdown",
   "metadata": {},
   "source": [
    "## PBCV analysis from LL34"
   ]
  },
  {
   "cell_type": "code",
   "execution_count": null,
   "metadata": {},
   "outputs": [],
   "source": [
    "%pylab inline\n",
    "import pickle, os\n",
    "import condor, spimage, h5py\n",
    "import scipy.stats\n",
    "import scipy.optimize\n",
    "import matplotlib.colors as colors\n",
    "import matplotlib.pyplot as plt\n",
    "import matplotlib.mlab as mlab"
   ]
  },
  {
   "cell_type": "code",
   "execution_count": null,
   "metadata": {
    "collapsed": true
   },
   "outputs": [],
   "source": [
    "gaussian = lambda x,A,mu,s: A * np.exp(-((mu-x)**2 /(2*s**2)))"
   ]
  },
  {
   "cell_type": "markdown",
   "metadata": {},
   "source": [
    "## Read data"
   ]
  },
  {
   "cell_type": "code",
   "execution_count": null,
   "metadata": {},
   "outputs": [],
   "source": [
    "run = 98\n",
    "Nmax = -1\n",
    "chisquared_max = 10\n",
    "if run == 98:\n",
    "    intensity_min = 5e4 # run 98 \n",
    "    intensity_max = 2e5 # run 98\n",
    "if run == 100:\n",
    "    intensity_min = 5e3 # run 100\n",
    "    intensity_max = 2e4 # run 100\n",
    "davinci_mount = \"/Users/benedikt/davinci\"\n",
    "data_folder = \"/scratch/fhgfs/xray/amol3416/\"\n",
    "with h5py.File(\"%s%s/sizing/amol3416_r%04i_sizing.h5\" % (davinci_mount, data_folder, run), \"r\") as f:\n",
    "    diameter_nm = f['entry_1/sizing/diameter'][:Nmax] * 1e9\n",
    "    intensity   = f['entry_1/sizing/intensity'][:Nmax]\n",
    "    nmeanerror  = f['entry_1/sizing/nmeanerror'][:Nmax]\n",
    "    chisquared  = f['entry_1/sizing/chisquared'][:Nmax]\n",
    "    checking    = f['entry_1/sizing/checking'][:Nmax]\n",
    "with h5py.File(\"%s%s/pbcv/phasing_threshold/amol3416_r%04i_phasing.h5\" % (davinci_mount, data_folder, run), \"r\") as f:\n",
    "    support_area = f['entry_1/phasing/support_area_nm2'][:Nmax]\n",
    "    support_largest = f['entry_1/phasing/support_largest_nm'][:Nmax]"
   ]
  },
  {
   "cell_type": "markdown",
   "metadata": {},
   "source": [
    "## Plotting error metrics to evaluate the size fitting results"
   ]
  },
  {
   "cell_type": "code",
   "execution_count": null,
   "metadata": {},
   "outputs": [],
   "source": [
    "plt.figure(figsize=(4,5))\n",
    "plt.title('Run %d - %d events' %(run, nmeanerror.size))\n",
    "plt.scatter(nmeanerror, chisquared, marker='.', color='k', s=2)\n",
    "plt.scatter(nmeanerror[checking==True], chisquared[checking==True], marker='.', color='r', s=2)\n",
    "plt.xlim(2e-6,2e-5)\n",
    "plt.semilogy()\n",
    "plt.semilogx()\n",
    "plt.axhline(chisquared_max)\n",
    "plt.xlabel('Normalized mean error')\n",
    "plt.ylabel('Chisquared')\n",
    "plt.show()"
   ]
  },
  {
   "cell_type": "markdown",
   "metadata": {},
   "source": [
    "## Selecting valid events based on thresholding the chisquared metric"
   ]
  },
  {
   "cell_type": "code",
   "execution_count": null,
   "metadata": {
    "collapsed": true
   },
   "outputs": [],
   "source": [
    "valid = (chisquared < chisquared_max)"
   ]
  },
  {
   "cell_type": "markdown",
   "metadata": {},
   "source": [
    "## Plotting size vs. intensity histogram"
   ]
  },
  {
   "cell_type": "code",
   "execution_count": null,
   "metadata": {},
   "outputs": [],
   "source": [
    "plt.figure()\n",
    "plt.title('Run %d - %d events (%.2f %%)' %(run, valid.sum(), 100*valid.sum()/ float(nmeanerror.size)))\n",
    "plt.hist2d(diameter_nm[valid], intensity[valid], bins=(np.linspace(50,400,100), np.linspace(1e1,intensity_max,100)),\n",
    "          cmap='inferno', norm=colors.LogNorm(vmin=1))\n",
    "plt.xlabel('Diameter [nm]')\n",
    "plt.ylabel('Intensity [mJ/um2]')\n",
    "plt.axhline(intensity_min)\n",
    "plt.colorbar()\n",
    "plt.show()"
   ]
  },
  {
   "cell_type": "markdown",
   "metadata": {},
   "source": [
    "## Selecting high intensity to avoid bias"
   ]
  },
  {
   "cell_type": "code",
   "execution_count": null,
   "metadata": {},
   "outputs": [],
   "source": [
    "selected = valid & (intensity > intensity_min)"
   ]
  },
  {
   "cell_type": "markdown",
   "metadata": {},
   "source": [
    "## Plotting the size distributions"
   ]
  },
  {
   "cell_type": "code",
   "execution_count": null,
   "metadata": {},
   "outputs": [],
   "source": [
    "plt.figure()\n",
    "plt.title('Run %d - %d events (%.2f %%)' %(run, selected.sum(), 100*selected.sum()/ float(nmeanerror.size)))\n",
    "n,bins, g = plt.hist(diameter_nm[selected], range=(100,300), bins=100, histtype='bar', color='k', \n",
    "         stacked=True, lw=0, label='all hits', normed=True)\n",
    "xbins = (bins[1:] + bins[:-1]) / 2.\n",
    "p0 = np.array([1., diameter_nm[selected].mean(), diameter_nm[selected].std()])\n",
    "popt, pcov  = scipy.optimize.curve_fit(gaussian, xbins, n, p0=p0)\n",
    "print \"Stats: mean = %.2f, sigma = %.2f\" %(diameter_nm[selected].mean(), diameter_nm[selected].std())\n",
    "plt.plot(xbins, gaussian(xbins, popt[0], popt[1], popt[2]), \n",
    "         label=r'Fit ($\\mu$ = %.2f, $\\sigma=%.2f$)' %(popt[1], popt[2]), color='r', lw=2)\n",
    "plt.legend(frameon=False)\n",
    "plt.xlabel('Diameter [nm]')\n",
    "plt.show()"
   ]
  },
  {
   "cell_type": "markdown",
   "metadata": {},
   "source": [
    "## Calculate size based on support retrieval"
   ]
  },
  {
   "cell_type": "code",
   "execution_count": null,
   "metadata": {
    "collapsed": true
   },
   "outputs": [],
   "source": [
    "diameter_nm_support = np.sqrt(support_area)\n",
    "diameter_nm_largest = support_largest\n",
    "(mu_support, sigma_support) = scipy.stats.norm.fit(diameter_nm_support)\n",
    "(mu_largest, sigma_largest) = scipy.stats.norm.fit(diameter_nm_largest)"
   ]
  },
  {
   "cell_type": "code",
   "execution_count": null,
   "metadata": {},
   "outputs": [],
   "source": [
    "plt.figure()\n",
    "plt.title('Run %d - %d events - support area' %(run, support_area.size))\n",
    "n,bins, g = plt.hist(diameter_nm_support, range=(100,300), bins=100, histtype='bar', color='k', \n",
    "                     stacked=True, lw=0, label='all hits', normed=True)\n",
    "xbins = (bins[1:] + bins[:-1]) / 2.\n",
    "p0 = np.array([1., diameter_nm_support.mean(), diameter_nm_support.std()])\n",
    "popt, pcov  = scipy.optimize.curve_fit(gaussian, xbins, n, p0=p0)\n",
    "print \"Stats: mean = %.2f, sigma = %.2f\" %(diameter_nm_support.mean(), diameter_nm_support.std())\n",
    "plt.plot(xbins, gaussian(xbins, popt[0], popt[1], popt[2]), \n",
    "         label=r'Fit ($\\mu$ = %.2f, $\\sigma=%.2f$)' %(popt[1], popt[2]), color='r', lw=2)\n",
    "plt.legend(frameon=False)\n",
    "plt.xlabel('Diameter [nm]')\n",
    "plt.show()"
   ]
  },
  {
   "cell_type": "code",
   "execution_count": null,
   "metadata": {},
   "outputs": [],
   "source": [
    "plt.figure()\n",
    "plt.title('Run %d - %d events - largest distance' %(run, support_largest.size))\n",
    "n,bins, g = plt.hist(diameter_nm_largest, range=(100,300), bins=100, histtype='bar', color='k', \n",
    "                     stacked=True, lw=0, label='all hits', normed=True)\n",
    "xbins = (bins[1:] + bins[:-1]) / 2.\n",
    "p0 = np.array([1., diameter_nm_largest.mean(), diameter_nm_largest.std()])\n",
    "popt, pcov  = scipy.optimize.curve_fit(gaussian, xbins, n, p0=p0)\n",
    "print \"Stats: mean = %.2f, sigma = %.2f\" %(diameter_nm_largest.mean(), diameter_nm_largest.std())\n",
    "plt.plot(xbins, gaussian(xbins, popt[0], popt[1], popt[2]), \n",
    "         label=r'Fit ($\\mu$ = %.2f, $\\sigma=%.2f$)' %(popt[1], popt[2]), color='r', lw=2)\n",
    "plt.legend(frameon=False)\n",
    "plt.xlabel('Diameter [nm]')\n",
    "plt.show()"
   ]
  },
  {
   "cell_type": "code",
   "execution_count": null,
   "metadata": {
    "collapsed": true
   },
   "outputs": [],
   "source": []
  }
 ],
 "metadata": {
  "kernelspec": {
   "display_name": "Python 2",
   "language": "python",
   "name": "python2"
  },
  "language_info": {
   "codemirror_mode": {
    "name": "ipython",
    "version": 2
   },
   "file_extension": ".py",
   "mimetype": "text/x-python",
   "name": "python",
   "nbconvert_exporter": "python",
   "pygments_lexer": "ipython2",
   "version": "2.7.14"
  }
 },
 "nbformat": 4,
 "nbformat_minor": 1
}
