{
 "cells": [
  {
   "cell_type": "markdown",
   "metadata": {},
   "source": [
    "# Rubisco DMA data"
   ]
  },
  {
   "cell_type": "code",
   "execution_count": 68,
   "metadata": {},
   "outputs": [
    {
     "name": "stdout",
     "output_type": "stream",
     "text": [
      "Populating the interactive namespace from numpy and matplotlib\n"
     ]
    }
   ],
   "source": [
    "import os\n",
    "%pylab inline\n",
    "import seaborn as sns\n",
    "sns.set_style('ticks')\n",
    "import scipy.optimize"
   ]
  },
  {
   "cell_type": "code",
   "execution_count": 61,
   "metadata": {
    "collapsed": true
   },
   "outputs": [],
   "source": [
    "# The files have three columns: time, size, and counts. \n",
    "# In my fit, I first fitted the main peak with a Gaussian, and then used the same Gaussian but with different amplitudes \n",
    "# (given by 'guessing' a poisson parameter for droplet filling - guessing is not really correct because we know roughly droplet size and concentration)\n",
    "# and progressively increasing width c(i)^2=c(1)^2*i for peak i."
   ]
  },
  {
   "cell_type": "code",
   "execution_count": null,
   "metadata": {
    "collapsed": true
   },
   "outputs": [],
   "source": [
    "gaussian = lambda x, A0, x0, sigma: A0*np.exp((-(x-x0)**2)/(2.*sigma**2))\n",
    "gaussians = lambda x, A0s, x0s, sigma: np.asarray([gaussian(x=x, A0=_A0, x0=_x0, sigma=sigma) for _A0, _x0 in zip(A0s, x0s)]).sum(axis=0)\n",
    "gaussians_equal_sigmas = lambda x, A0s, x0, sigma: np.asarray([gaussian(x=x, A0=_A0, x0=x0*(_i+1), sigma=sigma) for _i, _A0 in enumerate(A0s)]).sum(axis=0)\n",
    "\n",
    "\n",
    "def gaussians_fit(xdata=None, ydata=None, n=2, p_init=None, show=False):\n",
    "\n",
    "    if xdata is None and ydata is None:\n",
    "        # generate test data\n",
    "        A0s = [7.5,10.4]\n",
    "        x0s = [-5, 4.]\n",
    "        sigma = 2.\n",
    "        xdata = np.linspace(-20, 20, 500)\n",
    "        ydata = gaussians(x=xdata, A0s=A0s, x0s=x0s, sigma=sigma)\n",
    "\n",
    "    if p_init is None:\n",
    "        A0s_init = n*[ydata.max()]\n",
    "        x0s_init = [sorted(xdata)[int(round(i*xdata.size/float(n+1)))] for i in range(1,n+1)]\n",
    "        sigma_init = [(xdata.max()-xdata.min())/10.]\n",
    "        _p_init = A0s_init + x0s_init + sigma_init\n",
    "    else:\n",
    "        _p_init = p_init\n",
    "    \n",
    "    \n",
    "    f = lambda x, p: gaussians(x, A0s=p[:len(p)/2], x0s=p[len(p)/2:2*(len(p)/2)], sigma=p[-1])\n",
    "    err = lambda p: ((ydata-f(x=xdata, p=p))**2).sum()\n",
    "   \n",
    "    res = scipy.optimize.minimize(err, _p_init)\n",
    "    \n",
    "    yest = f(x=xdata, p=res.x)\n",
    "\n",
    "    return xdata, ydata, yest"
   ]
  },
  {
   "cell_type": "code",
   "execution_count": 73,
   "metadata": {},
   "outputs": [
    {
     "data": {
      "image/png": "[encoded data removed]",
      "text/plain": [
       "<Figure size 432x288 with 3 Axes>"
      ]
     },
     "metadata": {},
     "output_type": "display_data"
    }
   ],
   "source": [
    "concs = ['5e13', '7e14', '2e15']\n",
    "ips = [0, 2, 1]\n",
    "times = {}\n",
    "sizes = {}\n",
    "counts = {}\n",
    "for conc, ip in zip(concs, ips):\n",
    "    fn = [os.path.join('dma_data', fn) for fn in sorted(os.listdir('dma_data')) if fn.startswith('SpR%s' % conc)][ip]\n",
    "    times[conc], sizes[conc], counts[conc] = loadtxt(fn).swapaxes(0,1)\n",
    "fig, axs = subplots(3, 1, sharex=True)\n",
    "for conc, ax in zip(concs, axs):\n",
    "    ax.plot(sizes[conc], counts[conc])\n",
    "    xdata = sizes[conc].copy()\n",
    "    ydata = counts[conc].copy()\n",
    "    sel = (xdata>=10)*(xdata<=30)\n",
    "    xdata = xdata[sel]\n",
    "    ydata = ydata[sel]\n",
    "    xdata, ydata, yest = gaussians_fit(xdata, ydata, n=4, p_init=None, show=False)\n",
    "    ax.plot(xdata, yest)\n",
    "    ax.set_xticks([10, 15, 20, 25, 30])\n",
    "    ax.set_xlim(10, 30)\n",
    "    ax.set_yticks([])\n",
    "sns.despine()"
   ]
  },
  {
   "cell_type": "code",
   "execution_count": 69,
   "metadata": {},
   "outputs": [],
   "source": [
    "\n"
   ]
  },
  {
   "cell_type": "code",
   "execution_count": null,
   "metadata": {
    "collapsed": true
   },
   "outputs": [],
   "source": []
  }
 ],
 "metadata": {
  "kernelspec": {
   "display_name": "Python 2",
   "language": "python",
   "name": "python2"
  },
  "language_info": {
   "codemirror_mode": {
    "name": "ipython",
    "version": 2
   },
   "file_extension": ".py",
   "mimetype": "text/x-python",
   "name": "python",
   "nbconvert_exporter": "python",
   "pygments_lexer": "ipython2",
   "version": "2.7.13"
  }
 },
 "nbformat": 4,
 "nbformat_minor": 2
}
